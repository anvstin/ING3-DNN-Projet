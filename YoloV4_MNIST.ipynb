{
 "cells": [
  {
   "attachments": {},
   "cell_type": "markdown",
   "metadata": {},
   "source": [
    "# MNIST Object detection using YOLOv4"
   ]
  },
  {
   "cell_type": "code",
   "execution_count": 9,
   "metadata": {},
   "outputs": [],
   "source": [
    "import os"
   ]
  },
  {
   "cell_type": "code",
   "execution_count": 10,
   "metadata": {},
   "outputs": [
    {
     "name": "stdout",
     "output_type": "stream",
     "text": [
      "Requirement already satisfied: yolov4 in c:\\users\\aurel\\miniconda3\\envs\\datascience\\lib\\site-packages (3.2.0)\n",
      "Requirement already satisfied: opencv-python in c:\\users\\aurel\\miniconda3\\envs\\datascience\\lib\\site-packages (from -r MNIST-ObjectDetection/requirements.txt (line 1)) (4.7.0.68)\n",
      "Requirement already satisfied: tqdm in c:\\users\\aurel\\miniconda3\\envs\\datascience\\lib\\site-packages (from -r MNIST-ObjectDetection/requirements.txt (line 2)) (4.64.1)\n",
      "Requirement already satisfied: numpy in c:\\users\\aurel\\miniconda3\\envs\\datascience\\lib\\site-packages (from -r MNIST-ObjectDetection/requirements.txt (line 3)) (1.22.4)\n",
      "Requirement already satisfied: colorama in c:\\users\\aurel\\miniconda3\\envs\\datascience\\lib\\site-packages (from tqdm->-r MNIST-ObjectDetection/requirements.txt (line 2)) (0.4.6)\n",
      "Note: you may need to restart the kernel to use updated packages.\n"
     ]
    }
   ],
   "source": [
    "!git submodule update --init --recursive\n",
    "%pip install -r MNIST-ObjectDetection/requirements.txt yolov4\n",
    "if not os.path.exists('MNIST-ObjectDetection/data'):\n",
    "    %cd MNIST-ObjectDetection\n",
    "    !python generate_data.py\n",
    "    %cd .."
   ]
  },
  {
   "cell_type": "code",
   "execution_count": 11,
   "metadata": {},
   "outputs": [
    {
     "name": "stdout",
     "output_type": "stream",
     "text": [
      "GPU_NAME: NVIDIA GeForce RTX 4070 Ti\n",
      "GPU_COMPUTE_CAPABILITY: 89\n",
      "mkdir -p ./obj/\n",
      "chmod +x *.sh\n"
     ]
    },
    {
     "name": "stderr",
     "output_type": "stream",
     "text": [
      "process_begin: CreateProcess(NULL, uname, ...) failed.\n",
      "Makefile:22: pipe: No error\n",
      "La syntaxe de la commande n'est pas correcte.\n",
      "process_begin: CreateProcess(NULL, chmod +x *.sh, ...) failed.\n",
      "make (e=2): Le fichier sp�cifi� est introuvable.\n",
      "\n",
      "make: *** [Makefile:191: setchmod] Error 2\n",
      "make: *** Waiting for unfinished jobs....\n",
      "make: *** [Makefile:185: obj/] Error 1\n"
     ]
    }
   ],
   "source": [
    "GPU_NAME =  str(os.popen('nvidia-smi --query-gpu=name --format=csv,noheader').read()).strip()\n",
    "GPU_COMPUTE_CAPABILITY = str(os.popen('nvidia-smi --query-gpu=compute_cap --format=csv,noheader').read()).strip()\n",
    "# Remove newlines\n",
    "GPU_COMPUTE_CAPABILITY = GPU_COMPUTE_CAPABILITY.replace('.', '')\n",
    "\n",
    "print(f'GPU_NAME: {GPU_NAME}')\n",
    "print(f'GPU_COMPUTE_CAPABILITY: {GPU_COMPUTE_CAPABILITY}')\n",
    "# Build using make, enable OpenCV and CUDNN\n",
    "import re\n",
    "with open('darknet/Makefile', 'r') as f:\n",
    "    makefile = f.read()\n",
    "makefile = re.sub(r'GPU=0', 'GPU=1', makefile)\n",
    "makefile = re.sub(r'CUDNN=0', 'CUDNN=1', makefile)\n",
    "makefile = re.sub(r'CUDNN_HALF=0', 'CUDNN_HALF=1', makefile)\n",
    "makefile = re.sub(r'OPENCV=0', 'OPENCV=1', makefile)\n",
    "\n",
    "# Remove everything in arch= and remove lines after it if it ends with a \\. Replace with GPU_COMPUTE_CAPABILITY\n",
    "makefile = re.sub(r'ARCH=(.*\\\\\\n)*.*', f'ARCH={GPU_COMPUTE_CAPABILITY}', makefile)\n",
    "\n",
    "\n",
    "# Enable CUDNN_HALF if GPU compute capability >= 75\n",
    "if int(GPU_COMPUTE_CAPABILITY) >= 75:\n",
    "    makefile = re.sub(r'CUDNN_HALF=0', 'CUDNN_HALF=1', makefile)\n",
    "\n",
    "with open('darknet/Makefile', 'w') as f:\n",
    "    f.write(makefile)\n",
    "\n",
    "# Build darknet\n",
    "!(cd darknet && make -j)"
   ]
  },
  {
   "cell_type": "code",
   "execution_count": 1,
   "metadata": {},
   "outputs": [
    {
     "name": "stdout",
     "output_type": "stream",
     "text": [
      "c:\\Users\\aurel\\ING3-DNN-Projet\\darknet\n"
     ]
    }
   ],
   "source": [
    "%cd darknet\n"
   ]
  },
  {
   "cell_type": "code",
   "execution_count": 12,
   "metadata": {},
   "outputs": [
    {
     "ename": "ModuleNotFoundError",
     "evalue": "No module named 'google.colab'",
     "output_type": "error",
     "traceback": [
      "\u001b[1;31m---------------------------------------------------------------------------\u001b[0m",
      "\u001b[1;31mModuleNotFoundError\u001b[0m                       Traceback (most recent call last)",
      "Cell \u001b[1;32mIn [12], line 2\u001b[0m\n\u001b[0;32m      1\u001b[0m \u001b[39m# Upload video to colab\u001b[39;00m\n\u001b[1;32m----> 2\u001b[0m \u001b[39mfrom\u001b[39;00m \u001b[39mgoogle\u001b[39;00m\u001b[39m.\u001b[39;00m\u001b[39mcolab\u001b[39;00m \u001b[39mimport\u001b[39;00m files\n\u001b[0;32m      3\u001b[0m uploaded \u001b[39m=\u001b[39m files\u001b[39m.\u001b[39mupload()\n\u001b[0;32m      4\u001b[0m video_path \u001b[39m=\u001b[39m \u001b[39mlist\u001b[39m(uploaded\u001b[39m.\u001b[39mkeys())[\u001b[39m0\u001b[39m]\n",
      "\u001b[1;31mModuleNotFoundError\u001b[0m: No module named 'google.colab'"
     ]
    }
   ],
   "source": [
    "# Upload video to colab\n",
    "from google.colab import files\n",
    "uploaded = files.upload()\n",
    "video_path = list(uploaded.keys())[0]"
   ]
  },
  {
   "cell_type": "code",
   "execution_count": 8,
   "metadata": {},
   "outputs": [
    {
     "name": "stdout",
     "output_type": "stream",
     "text": [
      "c:\\Users\\aurel\\ING3-DNN-Projet\\darknet\n"
     ]
    },
    {
     "ename": "FileNotFoundError",
     "evalue": "Could not find module 'c:\\Users\\aurel\\ING3-DNN-Projet\\darknet\\darknet.dll' (or one of its dependencies). Try using the full path with constructor syntax.",
     "output_type": "error",
     "traceback": [
      "\u001b[1;31m---------------------------------------------------------------------------\u001b[0m",
      "\u001b[1;31mFileNotFoundError\u001b[0m                         Traceback (most recent call last)",
      "Cell \u001b[1;32mIn [8], line 10\u001b[0m\n\u001b[0;32m      8\u001b[0m \u001b[39mimport\u001b[39;00m \u001b[39msys\u001b[39;00m\n\u001b[0;32m      9\u001b[0m \u001b[39mimport\u001b[39;00m \u001b[39mcv2\u001b[39;00m\n\u001b[1;32m---> 10\u001b[0m ctypes\u001b[39m.\u001b[39;49mCDLL(os\u001b[39m.\u001b[39;49mpath\u001b[39m.\u001b[39;49mjoin(os\u001b[39m.\u001b[39;49mgetcwd(), \u001b[39m'\u001b[39;49m\u001b[39mdarknet\u001b[39;49m\u001b[39m'\u001b[39;49m, \u001b[39m'\u001b[39;49m\u001b[39mdarknet.dll\u001b[39;49m\u001b[39m'\u001b[39;49m), mode\u001b[39m=\u001b[39;49mctypes\u001b[39m.\u001b[39;49mRTLD_GLOBAL)\n\u001b[0;32m     11\u001b[0m \u001b[39m# Print darknet path\u001b[39;00m\n\u001b[0;32m     12\u001b[0m \u001b[39mprint\u001b[39m(darknet\u001b[39m.\u001b[39m__version__)\n",
      "File \u001b[1;32mc:\\Users\\aurel\\miniconda3\\envs\\datascience\\lib\\ctypes\\__init__.py:374\u001b[0m, in \u001b[0;36mCDLL.__init__\u001b[1;34m(self, name, mode, handle, use_errno, use_last_error, winmode)\u001b[0m\n\u001b[0;32m    371\u001b[0m \u001b[39mself\u001b[39m\u001b[39m.\u001b[39m_FuncPtr \u001b[39m=\u001b[39m _FuncPtr\n\u001b[0;32m    373\u001b[0m \u001b[39mif\u001b[39;00m handle \u001b[39mis\u001b[39;00m \u001b[39mNone\u001b[39;00m:\n\u001b[1;32m--> 374\u001b[0m     \u001b[39mself\u001b[39m\u001b[39m.\u001b[39m_handle \u001b[39m=\u001b[39m _dlopen(\u001b[39mself\u001b[39;49m\u001b[39m.\u001b[39;49m_name, mode)\n\u001b[0;32m    375\u001b[0m \u001b[39melse\u001b[39;00m:\n\u001b[0;32m    376\u001b[0m     \u001b[39mself\u001b[39m\u001b[39m.\u001b[39m_handle \u001b[39m=\u001b[39m handle\n",
      "\u001b[1;31mFileNotFoundError\u001b[0m: Could not find module 'c:\\Users\\aurel\\ING3-DNN-Projet\\darknet\\darknet.dll' (or one of its dependencies). Try using the full path with constructor syntax."
     ]
    }
   ],
   "source": [
    "if not os.path.exists(\"yolov4.weights\"):\n",
    "  !curl https://github.com/AlexeyAB/darknet/releases/download/darknet_yolo_v4_pre/yolov4.weights -o yolov4.weights\n",
    "\n",
    "# Load darknet dll\n",
    "import ctypes\n",
    "import os\n",
    "import sys\n",
    "import cv2\n",
    "import darknet.darknet as darknet\n",
    "\n",
    "# Print darknet path\n",
    "print(darknet.__version__)\n",
    "\n",
    "# Load network\n",
    "net = darknet.load_net(b\"darknet/cfg/yolov4.cfg\", b\"yolov4.weights\", 0)\n",
    "meta = darknet.load_meta(b\"darknet/cfg/coco.data\")\n",
    " \n",
    "# Run inference and save output to output.mp4 using opencv\n",
    "darknet_image = darknet.make_image(darknet.network_width(net), darknet.network_height(net),3)\n",
    "class_colors = darknet.load_colors(b\"darknet/data/colors.txt\")\n",
    "cap = cv2.VideoCapture(video_path)\n",
    "width = int(cap.get(cv2.CAP_PROP_FRAME_WIDTH))\n",
    "height = int(cap.get(cv2.CAP_PROP_FRAME_HEIGHT))\n",
    "fps = cap.get(cv2.CAP_PROP_FPS)\n",
    "fourcc = cv2.VideoWriter_fourcc(*\"mp4v\")\n",
    "out = cv2.VideoWriter(\"output.mp4\", fourcc, fps, (width, height))\n",
    "\n",
    "while cap.isOpened():\n",
    "    ret, frame = cap.read()\n",
    "    if not ret:\n",
    "        break\n",
    "\n",
    "    frame_rgb = cv2.cvtColor(frame, cv2.COLOR_BGR2RGB)\n",
    "    frame_resized = cv2.resize(frame_rgb,\n",
    "                               (darknet.network_width(net), darknet.network_height(net)),\n",
    "                               interpolation=cv2.INTER_LINEAR)\n",
    "\n",
    "    darknet.copy_image_from_bytes(darknet_image, frame_resized.tobytes())\n",
    "    detections = darknet.detect_image(net, meta, darknet_image, thresh=0.25)\n",
    "    image = darknet.draw_boxes(detections, frame_resized, class_colors)\n",
    "\n",
    "    out.write(image)\n",
    "\n",
    "cap.release()\n",
    "out.release()\n",
    "\n"
   ]
  },
  {
   "cell_type": "code",
   "execution_count": null,
   "metadata": {},
   "outputs": [],
   "source": [
    "# Use YOLOv4 to detect MNIST digits from images\n",
    "\n",
    "# Structure is train -> images -> 0,1,2,3,4,5,6,7,8,9 -> 0.jpg, 1.jpg, 2.jpg, ...\n",
    "# Structure is train -> labels -> 0,1,2,3,4,5,6,7,8,9 -> 0.txt, 1.txt, 2.txt, ...\n",
    "# Same for test\n",
    "\n",
    "data_path = 'MNIST-ObjectDetection/data/mnist_detection'\n",
    "train_path = os.path.join(data_path, 'train')\n",
    "test_path = os.path.join(data_path, 'test')\n",
    "\n",
    "# Train YOLOv4 on MNIST dataset"
   ]
  }
 ],
 "metadata": {
  "kernelspec": {
   "display_name": "datascience",
   "language": "python",
   "name": "python3"
  },
  "language_info": {
   "codemirror_mode": {
    "name": "ipython",
    "version": 3
   },
   "file_extension": ".py",
   "mimetype": "text/x-python",
   "name": "python",
   "nbconvert_exporter": "python",
   "pygments_lexer": "ipython3",
   "version": "3.9.15"
  },
  "orig_nbformat": 4,
  "vscode": {
   "interpreter": {
    "hash": "9fa2a398532d8f78293fd68c1f60ab4830ad95f9241718b131209c78a52f0b71"
   }
  }
 },
 "nbformat": 4,
 "nbformat_minor": 2
}
