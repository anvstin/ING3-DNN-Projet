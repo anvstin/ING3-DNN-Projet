{
 "cells": [
  {
   "attachments": {},
   "cell_type": "markdown",
   "metadata": {},
   "source": [
    "# MNIST Object detection using YOLOv4"
   ]
  },
  {
   "cell_type": "code",
   "execution_count": null,
   "metadata": {},
   "outputs": [],
   "source": []
  },
  {
   "cell_type": "code",
   "execution_count": 5,
   "metadata": {},
   "outputs": [],
   "source": [
    "import os"
   ]
  },
  {
   "cell_type": "code",
   "execution_count": 6,
   "metadata": {},
   "outputs": [
    {
     "name": "stdout",
     "output_type": "stream",
     "text": [
      "Requirement already satisfied: yolov4 in c:\\users\\aurel\\miniconda3\\envs\\datascience\\lib\\site-packages (3.2.0)\n",
      "Requirement already satisfied: opencv-python in c:\\users\\aurel\\miniconda3\\envs\\datascience\\lib\\site-packages (from -r MNIST-ObjectDetection/requirements.txt (line 1)) (4.7.0.68)\n",
      "Requirement already satisfied: tqdm in c:\\users\\aurel\\miniconda3\\envs\\datascience\\lib\\site-packages (from -r MNIST-ObjectDetection/requirements.txt (line 2)) (4.64.1)\n",
      "Requirement already satisfied: numpy in c:\\users\\aurel\\miniconda3\\envs\\datascience\\lib\\site-packages (from -r MNIST-ObjectDetection/requirements.txt (line 3)) (1.22.4)\n",
      "Requirement already satisfied: colorama in c:\\users\\aurel\\miniconda3\\envs\\datascience\\lib\\site-packages (from tqdm->-r MNIST-ObjectDetection/requirements.txt (line 2)) (0.4.6)\n",
      "Note: you may need to restart the kernel to use updated packages.\n"
     ]
    }
   ],
   "source": [
    "!git submodule update --init --recursive\n",
    "%pip install -r MNIST-ObjectDetection/requirements.txt yolov4\n",
    "if not os.path.exists('MNIST-ObjectDetection/data'):\n",
    "    %cd MNIST-ObjectDetection\n",
    "    !python generate_data.py\n",
    "    %cd .."
   ]
  },
  {
   "cell_type": "code",
   "execution_count": 7,
   "metadata": {},
   "outputs": [
    {
     "name": "stdout",
     "output_type": "stream",
     "text": [
      "GPU_NAME: NVIDIA GeForce RTX 4070 Ti\n",
      "GPU_COMPUTE_CAPABILITY: 89\n",
      "mkdir -p ./obj/\n",
      "mkdir -p backup\n",
      "chmod +x *.sh\n"
     ]
    },
    {
     "name": "stderr",
     "output_type": "stream",
     "text": [
      "process_begin: CreateProcess(NULL, uname, ...) failed.\n",
      "Makefile:23: pipe: No error\n",
      "La syntaxe de la commande n'est pas correcte.\n",
      "process_begin: CreateProcess(NULL, chmod +x *.sh, ...) failed.\n",
      "make (e=2): Le fichier sp�cifi� est introuvable.\n",
      "\n",
      "make: *** [Makefile:203: setchmod] Error 2\n",
      "make: *** Waiting for unfinished jobs....\n",
      "make: *** [Makefile:197: obj/] Error 1\n"
     ]
    }
   ],
   "source": [
    "GPU_NAME =  str(os.popen('nvidia-smi --query-gpu=name --format=csv,noheader').read()).strip()\n",
    "GPU_COMPUTE_CAPABILITY = str(os.popen('nvidia-smi --query-gpu=compute_cap --format=csv,noheader').read()).strip()\n",
    "# Remove newlines\n",
    "GPU_COMPUTE_CAPABILITY = GPU_COMPUTE_CAPABILITY.replace('.', '')\n",
    "\n",
    "print(f'GPU_NAME: {GPU_NAME}')\n",
    "print(f'GPU_COMPUTE_CAPABILITY: {GPU_COMPUTE_CAPABILITY}')\n",
    "# Build using make, enable OpenCV and CUDNN\n",
    "import re\n",
    "with open('darknet/Makefile', 'r') as f:\n",
    "    makefile = f.read()\n",
    "makefile = re.sub(r'GPU=0', 'GPU=1', makefile)\n",
    "makefile = re.sub(r'CUDNN=0', 'CUDNN=1', makefile)\n",
    "makefile = re.sub(r'CUDNN_HALF=0', 'CUDNN_HALF=1', makefile)\n",
    "makefile = re.sub(r'OPENCV=0', 'OPENCV=1', makefile)\n",
    "\n",
    "# Remove everything in arch= and remove lines after it if it ends with a \\. Replace with GPU_COMPUTE_CAPABILITY\n",
    "makefile = re.sub(r'ARCH=(.*\\\\\\n)*.*', f'ARCH={GPU_COMPUTE_CAPABILITY}', makefile)\n",
    "\n",
    "\n",
    "# Enable CUDNN_HALF if GPU compute capability >= 75\n",
    "if int(GPU_COMPUTE_CAPABILITY) >= 75:\n",
    "    makefile = re.sub(r'CUDNN_HALF=0', 'CUDNN_HALF=1', makefile)\n",
    "\n",
    "with open('darknet/Makefile', 'w') as f:\n",
    "    f.write(makefile)\n",
    "\n",
    "# Build darknet\n",
    "!(cd darknet && make -j)"
   ]
  },
  {
   "cell_type": "code",
   "execution_count": null,
   "metadata": {},
   "outputs": [],
   "source": []
  },
  {
   "cell_type": "code",
   "execution_count": 8,
   "metadata": {},
   "outputs": [],
   "source": [
    "# Use YOLOv4 to detect MNIST digits from images\n",
    "\n",
    "# Structure is train -> images -> 0,1,2,3,4,5,6,7,8,9 -> 0.jpg, 1.jpg, 2.jpg, ...\n",
    "# Structure is train -> labels -> 0,1,2,3,4,5,6,7,8,9 -> 0.txt, 1.txt, 2.txt, ...\n",
    "# Same for test\n",
    "\n",
    "data_path = 'MNIST-ObjectDetection/data/mnist_detection'\n",
    "train_path = os.path.join(data_path, 'train')\n",
    "test_path = os.path.join(data_path, 'test')\n",
    "\n",
    "# Train YOLOv4 on MNIST dataset"
   ]
  }
 ],
 "metadata": {
  "kernelspec": {
   "display_name": "datascience",
   "language": "python",
   "name": "python3"
  },
  "language_info": {
   "codemirror_mode": {
    "name": "ipython",
    "version": 3
   },
   "file_extension": ".py",
   "mimetype": "text/x-python",
   "name": "python",
   "nbconvert_exporter": "python",
   "pygments_lexer": "ipython3",
   "version": "3.9.15"
  },
  "orig_nbformat": 4,
  "vscode": {
   "interpreter": {
    "hash": "9fa2a398532d8f78293fd68c1f60ab4830ad95f9241718b131209c78a52f0b71"
   }
  }
 },
 "nbformat": 4,
 "nbformat_minor": 2
}
