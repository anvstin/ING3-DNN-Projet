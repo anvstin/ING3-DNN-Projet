{
 "cells": [
  {
   "attachments": {},
   "cell_type": "markdown",
   "metadata": {},
   "source": [
    "# MNIST Object detection using YOLOv4"
   ]
  },
  {
   "cell_type": "code",
   "execution_count": null,
   "metadata": {},
   "outputs": [],
   "source": []
  },
  {
   "cell_type": "code",
   "execution_count": 4,
   "metadata": {},
   "outputs": [],
   "source": [
    "import os"
   ]
  },
  {
   "cell_type": "code",
   "execution_count": 5,
   "metadata": {},
   "outputs": [
    {
     "name": "stdout",
     "output_type": "stream",
     "text": [
      "Collecting yolov4\n",
      "  Downloading yolov4-3.2.0.tar.gz (42 kB)\n",
      "     ---------------------------------------- 42.3/42.3 kB 2.0 MB/s eta 0:00:00\n",
      "  Installing build dependencies: started\n",
      "  Installing build dependencies: finished with status 'done'\n",
      "  Getting requirements to build wheel: started\n",
      "  Getting requirements to build wheel: finished with status 'done'\n",
      "  Preparing metadata (pyproject.toml): started\n",
      "  Preparing metadata (pyproject.toml): finished with status 'done'\n",
      "Requirement already satisfied: numpy>=1.18.0 in c:\\users\\aurel\\miniconda3\\envs\\datascience\\lib\\site-packages (from yolov4) (1.22.4)\n",
      "Building wheels for collected packages: yolov4\n",
      "  Building wheel for yolov4 (pyproject.toml): started\n",
      "  Building wheel for yolov4 (pyproject.toml): finished with status 'error'\n",
      "Failed to build yolov4\n",
      "Note: you may need to restart the kernel to use updated packages.\n"
     ]
    },
    {
     "name": "stderr",
     "output_type": "stream",
     "text": [
      "  error: subprocess-exited-with-error\n",
      "  \n",
      "  × Building wheel for yolov4 (pyproject.toml) did not run successfully.\n",
      "  │ exit code: 1\n",
      "  ╰─> [60 lines of output]\n",
      "      C:\\Users\\aurel\\AppData\\Local\\Temp\\pip-build-env-30dr1ks6\\overlay\\Lib\\site-packages\\setuptools\\dist.py:775: UserWarning: Usage of dash-separated 'long-description' will not be supported in future versions. Please use the underscore name 'long_description' instead\n",
      "        warnings.warn(\n",
      "      running bdist_wheel\n",
      "      running build\n",
      "      running build_py\n",
      "      creating build\n",
      "      creating build\\lib.win-amd64-cpython-39\n",
      "      creating build\\lib.win-amd64-cpython-39\\yolov4\n",
      "      copying py_src\\yolov4\\__init__.py -> build\\lib.win-amd64-cpython-39\\yolov4\n",
      "      creating build\\lib.win-amd64-cpython-39\\yolov4\\common\n",
      "      copying py_src\\yolov4\\common\\base_class.py -> build\\lib.win-amd64-cpython-39\\yolov4\\common\n",
      "      copying py_src\\yolov4\\common\\config.py -> build\\lib.win-amd64-cpython-39\\yolov4\\common\n",
      "      copying py_src\\yolov4\\common\\media.py -> build\\lib.win-amd64-cpython-39\\yolov4\\common\n",
      "      copying py_src\\yolov4\\common\\parser.py -> build\\lib.win-amd64-cpython-39\\yolov4\\common\n",
      "      copying py_src\\yolov4\\common\\__init__.py -> build\\lib.win-amd64-cpython-39\\yolov4\\common\n",
      "      creating build\\lib.win-amd64-cpython-39\\yolov4\\tf\n",
      "      copying py_src\\yolov4\\tf\\model.py -> build\\lib.win-amd64-cpython-39\\yolov4\\tf\n",
      "      copying py_src\\yolov4\\tf\\__init__.py -> build\\lib.win-amd64-cpython-39\\yolov4\\tf\n",
      "      creating build\\lib.win-amd64-cpython-39\\yolov4\\tflite\n",
      "      copying py_src\\yolov4\\tflite\\__init__.py -> build\\lib.win-amd64-cpython-39\\yolov4\\tflite\n",
      "      creating build\\lib.win-amd64-cpython-39\\yolov4\\common\\metalayer\n",
      "      copying py_src\\yolov4\\common\\metalayer\\base_layer.py -> build\\lib.win-amd64-cpython-39\\yolov4\\common\\metalayer\n",
      "      copying py_src\\yolov4\\common\\metalayer\\convolutional_layer.py -> build\\lib.win-amd64-cpython-39\\yolov4\\common\\metalayer\n",
      "      copying py_src\\yolov4\\common\\metalayer\\maxpool_layer.py -> build\\lib.win-amd64-cpython-39\\yolov4\\common\\metalayer\n",
      "      copying py_src\\yolov4\\common\\metalayer\\net_layer.py -> build\\lib.win-amd64-cpython-39\\yolov4\\common\\metalayer\n",
      "      copying py_src\\yolov4\\common\\metalayer\\route_layer.py -> build\\lib.win-amd64-cpython-39\\yolov4\\common\\metalayer\n",
      "      copying py_src\\yolov4\\common\\metalayer\\shortcut_layer.py -> build\\lib.win-amd64-cpython-39\\yolov4\\common\\metalayer\n",
      "      copying py_src\\yolov4\\common\\metalayer\\upsample_layer.py -> build\\lib.win-amd64-cpython-39\\yolov4\\common\\metalayer\n",
      "      copying py_src\\yolov4\\common\\metalayer\\yolo_layer.py -> build\\lib.win-amd64-cpython-39\\yolov4\\common\\metalayer\n",
      "      copying py_src\\yolov4\\common\\metalayer\\yolo_tpu_layer.py -> build\\lib.win-amd64-cpython-39\\yolov4\\common\\metalayer\n",
      "      copying py_src\\yolov4\\common\\metalayer\\__init__.py -> build\\lib.win-amd64-cpython-39\\yolov4\\common\\metalayer\n",
      "      creating build\\lib.win-amd64-cpython-39\\yolov4\\tf\\dataset\n",
      "      copying py_src\\yolov4\\tf\\dataset\\augmentation.py -> build\\lib.win-amd64-cpython-39\\yolov4\\tf\\dataset\n",
      "      copying py_src\\yolov4\\tf\\dataset\\keras_sequence.py -> build\\lib.win-amd64-cpython-39\\yolov4\\tf\\dataset\n",
      "      copying py_src\\yolov4\\tf\\dataset\\__init__.py -> build\\lib.win-amd64-cpython-39\\yolov4\\tf\\dataset\n",
      "      creating build\\lib.win-amd64-cpython-39\\yolov4\\tf\\layers\n",
      "      copying py_src\\yolov4\\tf\\layers\\convolutional_layer.py -> build\\lib.win-amd64-cpython-39\\yolov4\\tf\\layers\n",
      "      copying py_src\\yolov4\\tf\\layers\\maxpool_layer.py -> build\\lib.win-amd64-cpython-39\\yolov4\\tf\\layers\n",
      "      copying py_src\\yolov4\\tf\\layers\\route_layer.py -> build\\lib.win-amd64-cpython-39\\yolov4\\tf\\layers\n",
      "      copying py_src\\yolov4\\tf\\layers\\shortcut_layer.py -> build\\lib.win-amd64-cpython-39\\yolov4\\tf\\layers\n",
      "      copying py_src\\yolov4\\tf\\layers\\upsample_layer.py -> build\\lib.win-amd64-cpython-39\\yolov4\\tf\\layers\n",
      "      copying py_src\\yolov4\\tf\\layers\\yolo_layer.py -> build\\lib.win-amd64-cpython-39\\yolov4\\tf\\layers\n",
      "      copying py_src\\yolov4\\tf\\layers\\yolo_tpu_layer.py -> build\\lib.win-amd64-cpython-39\\yolov4\\tf\\layers\n",
      "      copying py_src\\yolov4\\tf\\layers\\__init__.py -> build\\lib.win-amd64-cpython-39\\yolov4\\tf\\layers\n",
      "      creating build\\lib.win-amd64-cpython-39\\yolov4\\tf\\training\n",
      "      copying py_src\\yolov4\\tf\\training\\iou.py -> build\\lib.win-amd64-cpython-39\\yolov4\\tf\\training\n",
      "      copying py_src\\yolov4\\tf\\training\\yolo_loss.py -> build\\lib.win-amd64-cpython-39\\yolov4\\tf\\training\n",
      "      copying py_src\\yolov4\\tf\\training\\__init__.py -> build\\lib.win-amd64-cpython-39\\yolov4\\tf\\training\n",
      "      creating build\\lib.win-amd64-cpython-39\\yolov4\\tf\\utils\n",
      "      copying py_src\\yolov4\\tf\\utils\\mAP.py -> build\\lib.win-amd64-cpython-39\\yolov4\\tf\\utils\n",
      "      copying py_src\\yolov4\\tf\\utils\\tflite.py -> build\\lib.win-amd64-cpython-39\\yolov4\\tf\\utils\n",
      "      copying py_src\\yolov4\\tf\\utils\\weights.py -> build\\lib.win-amd64-cpython-39\\yolov4\\tf\\utils\n",
      "      copying py_src\\yolov4\\tf\\utils\\__init__.py -> build\\lib.win-amd64-cpython-39\\yolov4\\tf\\utils\n",
      "      creating build\\lib.win-amd64-cpython-39\\yolov4\\tf\\training\\callbacks\n",
      "      copying py_src\\yolov4\\tf\\training\\callbacks\\save_weights.py -> build\\lib.win-amd64-cpython-39\\yolov4\\tf\\training\\callbacks\n",
      "      copying py_src\\yolov4\\tf\\training\\callbacks\\yolo_each_step.py -> build\\lib.win-amd64-cpython-39\\yolov4\\tf\\training\\callbacks\n",
      "      copying py_src\\yolov4\\tf\\training\\callbacks\\__init__.py -> build\\lib.win-amd64-cpython-39\\yolov4\\tf\\training\\callbacks\n",
      "      running build_ext\n",
      "      building 'yolov4.common._common' extension\n",
      "      error: Microsoft Visual C++ 14.0 or greater is required. Get it with \"Microsoft C++ Build Tools\": https://visualstudio.microsoft.com/visual-cpp-build-tools/\n",
      "      [end of output]\n",
      "  \n",
      "  note: This error originates from a subprocess, and is likely not a problem with pip.\n",
      "  ERROR: Failed building wheel for yolov4\n",
      "ERROR: Could not build wheels for yolov4, which is required to install pyproject.toml-based projects\n"
     ]
    }
   ],
   "source": [
    "!git submodule update --init --recursive\n",
    "%pip install -r MNIST-ObjectDetection/requirements.txt yolov4\n",
    "if not os.path.exists('MNIST-ObjectDetection/data'):\n",
    "    %cd MNIST-ObjectDetection\n",
    "    !python generate_data.py\n",
    "    %cd .."
   ]
  },
  {
   "cell_type": "code",
   "execution_count": 6,
   "metadata": {},
   "outputs": [],
   "source": [
    "# Use YOLOv4 to detect MNIST digits from images\n",
    "\n",
    "# Structure is train -> images -> 0,1,2,3,4,5,6,7,8,9 -> 0.jpg, 1.jpg, 2.jpg, ...\n",
    "# Structure is train -> labels -> 0,1,2,3,4,5,6,7,8,9 -> 0.txt, 1.txt, 2.txt, ...\n",
    "# Same for test\n",
    "\n",
    "data_path = 'MNIST-ObjectDetection/data/mnist_detection'\n",
    "train_path = os.path.join(data_path, 'train')\n",
    "test_path = os.path.join(data_path, 'test')\n",
    "\n",
    "# Train YOLOv4 on MNIST dataset\n"
   ]
  }
 ],
 "metadata": {
  "kernelspec": {
   "display_name": "Python 3",
   "language": "python",
   "name": "python3"
  },
  "language_info": {
   "codemirror_mode": {
    "name": "ipython",
    "version": 3
   },
   "file_extension": ".py",
   "mimetype": "text/x-python",
   "name": "python",
   "nbconvert_exporter": "python",
   "pygments_lexer": "ipython3",
   "version": "3.8.10 (default, Nov 14 2022, 12:59:47) \n[GCC 9.4.0]"
  },
  "orig_nbformat": 4,
  "vscode": {
   "interpreter": {
    "hash": "916dbcbb3f70747c44a77c7bcd40155683ae19c65e1c03b4aa3499c5328201f1"
   }
  }
 },
 "nbformat": 4,
 "nbformat_minor": 2
}
